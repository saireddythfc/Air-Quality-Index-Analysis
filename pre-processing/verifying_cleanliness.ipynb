{
 "cells": [
  {
   "cell_type": "markdown",
   "metadata": {},
   "source": [
    "# Verifying whether the dataset is cleaned or not"
   ]
  },
  {
   "cell_type": "code",
   "execution_count": 1,
   "metadata": {},
   "outputs": [],
   "source": [
    "import pandas as pd\n",
    "import datetime as dt\n",
    "import matplotlib.pyplot as plt "
   ]
  },
  {
   "cell_type": "code",
   "execution_count": 16,
   "metadata": {},
   "outputs": [
    {
     "data": {
      "text/html": [
       "<div>\n",
       "<style scoped>\n",
       "    .dataframe tbody tr th:only-of-type {\n",
       "        vertical-align: middle;\n",
       "    }\n",
       "\n",
       "    .dataframe tbody tr th {\n",
       "        vertical-align: top;\n",
       "    }\n",
       "\n",
       "    .dataframe thead th {\n",
       "        text-align: right;\n",
       "    }\n",
       "</style>\n",
       "<table border=\"1\" class=\"dataframe\">\n",
       "  <thead>\n",
       "    <tr style=\"text-align: right;\">\n",
       "      <th></th>\n",
       "      <th>date</th>\n",
       "      <th>so2</th>\n",
       "      <th>no2</th>\n",
       "      <th>rspm</th>\n",
       "      <th>spm</th>\n",
       "    </tr>\n",
       "  </thead>\n",
       "  <tbody>\n",
       "    <tr>\n",
       "      <th>0</th>\n",
       "      <td>2008-1-1</td>\n",
       "      <td>4.000000</td>\n",
       "      <td>36.500000</td>\n",
       "      <td>131.000000</td>\n",
       "      <td>388.000000</td>\n",
       "    </tr>\n",
       "    <tr>\n",
       "      <th>1</th>\n",
       "      <td>2008-1-2</td>\n",
       "      <td>4.948598</td>\n",
       "      <td>47.769626</td>\n",
       "      <td>249.912281</td>\n",
       "      <td>464.264151</td>\n",
       "    </tr>\n",
       "    <tr>\n",
       "      <th>2</th>\n",
       "      <td>2008-1-3</td>\n",
       "      <td>4.948598</td>\n",
       "      <td>47.769626</td>\n",
       "      <td>249.912281</td>\n",
       "      <td>464.264151</td>\n",
       "    </tr>\n",
       "    <tr>\n",
       "      <th>3</th>\n",
       "      <td>2008-1-4</td>\n",
       "      <td>4.000000</td>\n",
       "      <td>40.700000</td>\n",
       "      <td>164.000000</td>\n",
       "      <td>458.000000</td>\n",
       "    </tr>\n",
       "    <tr>\n",
       "      <th>4</th>\n",
       "      <td>2008-1-5</td>\n",
       "      <td>4.948598</td>\n",
       "      <td>47.769626</td>\n",
       "      <td>249.912281</td>\n",
       "      <td>464.264151</td>\n",
       "    </tr>\n",
       "  </tbody>\n",
       "</table>\n",
       "</div>"
      ],
      "text/plain": [
       "       date       so2        no2        rspm         spm\n",
       "0  2008-1-1  4.000000  36.500000  131.000000  388.000000\n",
       "1  2008-1-2  4.948598  47.769626  249.912281  464.264151\n",
       "2  2008-1-3  4.948598  47.769626  249.912281  464.264151\n",
       "3  2008-1-4  4.000000  40.700000  164.000000  458.000000\n",
       "4  2008-1-5  4.948598  47.769626  249.912281  464.264151"
      ]
     },
     "execution_count": 16,
     "metadata": {},
     "output_type": "execute_result"
    }
   ],
   "source": [
    "#reading the dataset\n",
    "df = pd.read_excel('/home/pragya/fyp/date_data.xlsx')\n",
    "df.head()"
   ]
  },
  {
   "cell_type": "markdown",
   "metadata": {},
   "source": [
    "## Checking for null values"
   ]
  },
  {
   "cell_type": "code",
   "execution_count": 3,
   "metadata": {},
   "outputs": [
    {
     "data": {
      "text/plain": [
       "0"
      ]
     },
     "execution_count": 3,
     "metadata": {},
     "output_type": "execute_result"
    }
   ],
   "source": [
    "#for date column\n",
    "date_null_check1 = pd.isnull(df['date'])\n",
    "date_null_check1.sum()\n",
    "\n",
    "#for so2 column\n",
    "date_null_check2 = pd.isnull(df['so2'])\n",
    "date_null_check2.sum()\n",
    "\n",
    "#for no2 column\n",
    "date_null_check3 = pd.isnull(df['no2'])\n",
    "date_null_check3.sum()\n",
    "\n",
    "#for rspm column\n",
    "date_null_check4 = pd.isnull(df['rspm'])\n",
    "date_null_check4.sum()\n",
    "\n",
    "#for spm column\n",
    "date_null_check5 = pd.isnull(df['spm'])\n",
    "date_null_check5.sum()"
   ]
  },
  {
   "cell_type": "markdown",
   "metadata": {},
   "source": [
    "Sum of is null function will be zero here because we have filled all the cells with mean/median imputated data.\n",
    "<br>Thus we have correctly filled all the cells."
   ]
  },
  {
   "cell_type": "markdown",
   "metadata": {},
   "source": [
    "## Checking datatypes\n",
    "\n",
    "Through preliminary analysis (in comments) we understood that values in the columns no2,so2,spm and rspm in the dataset are stored in <b>float</b> data type.<br>\n",
    "This is tested by using a for loop and by printing an appropriate message on successful completion of the test.  "
   ]
  },
  {
   "cell_type": "markdown",
   "metadata": {},
   "source": [
    "### NO2"
   ]
  },
  {
   "cell_type": "code",
   "execution_count": 7,
   "metadata": {},
   "outputs": [
    {
     "name": "stdout",
     "output_type": "stream",
     "text": [
      "All values are stored in float data type\n"
     ]
    }
   ],
   "source": [
    "# value_dataType_check = df['no2'][0]\n",
    "# print(type(value_dataType_check))\n",
    "flag = 0\n",
    "for i in df['no2']:\n",
    "    if(type(i)==float):\n",
    "        continue\n",
    "    else:\n",
    "        print(i, type(i))\n",
    "        flag = 1\n",
    "\n",
    "if(flag==0):\n",
    "    print(\"All values are stored in float data type\")"
   ]
  },
  {
   "cell_type": "markdown",
   "metadata": {},
   "source": [
    "### SO2"
   ]
  },
  {
   "cell_type": "code",
   "execution_count": 8,
   "metadata": {},
   "outputs": [
    {
     "name": "stdout",
     "output_type": "stream",
     "text": [
      "All values are stored in float data type\n"
     ]
    }
   ],
   "source": [
    "# value_dataType_check = df['so2'][0]\n",
    "# print(type(value_dataType_check))\n",
    "flag = 0\n",
    "for i in df['so2']:\n",
    "    if(type(i)==float):\n",
    "        continue\n",
    "    else:\n",
    "        print(i, type(i))\n",
    "        flag = 1\n",
    "\n",
    "if(flag==0):\n",
    "    print(\"All values are stored in float data type\")"
   ]
  },
  {
   "cell_type": "markdown",
   "metadata": {},
   "source": [
    "### RSPM"
   ]
  },
  {
   "cell_type": "code",
   "execution_count": 10,
   "metadata": {},
   "outputs": [
    {
     "name": "stdout",
     "output_type": "stream",
     "text": [
      "All values are stored in float data type\n"
     ]
    }
   ],
   "source": [
    "# value_dataType_check = df['rspm'][0]\n",
    "# print(type(value_dataType_check))\n",
    "flag = 0\n",
    "for i in df['rspm']:\n",
    "    if(type(i)==float):\n",
    "        continue\n",
    "    else:\n",
    "        print(i, type(i))\n",
    "        flag = 1\n",
    "\n",
    "if(flag==0):\n",
    "    print(\"All values are stored in float data type\")"
   ]
  },
  {
   "cell_type": "markdown",
   "metadata": {},
   "source": [
    "### SPM"
   ]
  },
  {
   "cell_type": "code",
   "execution_count": 12,
   "metadata": {},
   "outputs": [
    {
     "name": "stdout",
     "output_type": "stream",
     "text": [
      "All values are stored in float data type\n"
     ]
    }
   ],
   "source": [
    "# value_dataType_check = df['spm'][0]\n",
    "# print(type(value_dataType_check))\n",
    "flag = 0\n",
    "for i in df['spm']:\n",
    "    if(type(i)==float):\n",
    "        continue\n",
    "    else:\n",
    "        print(i, type(i))\n",
    "        flag = 1\n",
    "\n",
    "if(flag==0):\n",
    "    print(\"All values are stored in float data type\")"
   ]
  },
  {
   "cell_type": "markdown",
   "metadata": {},
   "source": [
    "## Verifying date formats"
   ]
  },
  {
   "cell_type": "markdown",
   "metadata": {},
   "source": [
    "<h3>Uniform Format Test</h3>\n",
    "\n",
    "The <b>datetime.strptime</b> function of <b>datetime</b> library in python, was used to validate the format of all the values in <b>Date</b> column in the dataset.<br>\n",
    "The format to be used in this dataset is <b>YYYY-MM-DD</b>.<br>\n",
    "Using a for loop each entry was tested for the correct format with the help of <b>datetime.strptime</b> function. On error in the date format, the fuction throws a <b>ValueError</b> which is handled as shown below.<br>\n",
    "On successful completion of the test, an appropriate message is displayed.<br><br>\n",
    "<b>COMMENTS</b> - To understand the working of <b>datetime.strptime</b> function of <b>datetime</b> library in python."
   ]
  },
  {
   "cell_type": "code",
   "execution_count": 13,
   "metadata": {},
   "outputs": [
    {
     "name": "stdout",
     "output_type": "stream",
     "text": [
      "All dates are stored in YYYY-MM-DD format\n"
     ]
    }
   ],
   "source": [
    "# date_format_check = df['date'][0]\n",
    "# print(date_format_check, type(date_format_check))\n",
    "# new_date = dt.datetime.strptime(date_format_check, \"%Y-%m-%d\")\n",
    "# print(new_date, type(new_date))\n",
    "\n",
    "flag = 0\n",
    "for i in range(0, len(df['date'])):\n",
    "    try:\n",
    "        date = dt.datetime.strptime(df['date'][i], \"%Y-%m-%d\")\n",
    "    except ValueError:\n",
    "        flag = 1\n",
    "        print(i)\n",
    "\n",
    "if(flag==0):\n",
    "    print(\"All dates are stored in YYYY-MM-DD format\")"
   ]
  },
  {
   "cell_type": "markdown",
   "metadata": {},
   "source": [
    "<h3>Daily Updates Test</h3>\n",
    "\n",
    "In this test, we check whether the values are recorded daily."
   ]
  },
  {
   "cell_type": "code",
   "execution_count": 19,
   "metadata": {},
   "outputs": [
    {
     "name": "stdout",
     "output_type": "stream",
     "text": [
      "Values are recorded on a daily basis\n"
     ]
    }
   ],
   "source": [
    "dates_in_datetime = pd.DataFrame(columns=['Date'])\n",
    "dates_in_datetime['Date']= pd.to_datetime(df['date']) \n",
    "type(dates_in_datetime['Date'][0])\n",
    "\n",
    "one_day = dt.timedelta(days=1)\n",
    "flag = 0\n",
    "for i in range(1, len(dates_in_datetime['Date'])):\n",
    "    if((dates_in_datetime['Date'][i] - dates_in_datetime['Date'][i-1]) == one_day):\n",
    "        continue\n",
    "    else:\n",
    "        flag=1\n",
    "\n",
    "if(flag==0):\n",
    "    print(\"Values are recorded on a daily basis\")\n",
    "else:\n",
    "    print(\"Values are not recorded on a daily basis\")"
   ]
  },
  {
   "cell_type": "markdown",
   "metadata": {},
   "source": [
    "<h3>Outliers Test</h3>\n",
    "\n",
    "In this test, we check whether the dates have any outliers.<br>\n",
    "An outliers could be of the form where date is recorded in <b>YYYY-DD-MM</b> instead of <b>YYYY-MM-DD</b> and the $DD<=12$.<br>\n",
    "In such cases, the previous test of formats would fail to detect such values.<br>\n",
    "Outliers of this form(if any) are identifed via simple plotting using <b>matplotlib.pyplot</b> library in python."
   ]
  },
  {
   "cell_type": "code",
   "execution_count": 20,
   "metadata": {},
   "outputs": [
    {
     "data": {
      "text/plain": [
       "Text(0,0.5,'Dates')"
      ]
     },
     "execution_count": 20,
     "metadata": {},
     "output_type": "execute_result"
    },
    {
     "data": {
      "image/png": "[encoded data removed]",
      "text/plain": [
       "<Figure size 432x288 with 1 Axes>"
      ]
     },
     "metadata": {
      "needs_background": "light"
     },
     "output_type": "display_data"
    }
   ],
   "source": [
    "#dates_in_datetime.index\n",
    "x = [i for i in range(0, 1096)]\n",
    "y = dates_in_datetime['Date']\n",
    "\n",
    "plt.plot(x,y)\n",
    "\n",
    "plt.xlabel(\"Indices\")\n",
    "plt.ylabel(\"Dates\")"
   ]
  },
  {
   "cell_type": "markdown",
   "metadata": {},
   "source": [
    "<h2>Valid Format Test</h2>\n",
    "\n",
    "In this case, the values recorded under the <b>no2, so2, spm, rspm</b> field must always be non-negative.<br>\n",
    "The for loop tests this attribute and an appropriate message is printed on successful execution of the test."
   ]
  },
  {
   "cell_type": "markdown",
   "metadata": {},
   "source": [
    "### no2"
   ]
  },
  {
   "cell_type": "code",
   "execution_count": 21,
   "metadata": {},
   "outputs": [
    {
     "name": "stdout",
     "output_type": "stream",
     "text": [
      "All prices recorded are non negative\n"
     ]
    }
   ],
   "source": [
    "flag = 0\n",
    "for i in range(0, len(df['no2'])):\n",
    "    if(df['no2'][i]<0):\n",
    "        flag = 1\n",
    "        print(i)\n",
    "    else:\n",
    "        continue\n",
    "\n",
    "if(flag == 0):\n",
    "    print(\"All prices recorded are non negative\")"
   ]
  },
  {
   "cell_type": "markdown",
   "metadata": {},
   "source": [
    "### so2"
   ]
  },
  {
   "cell_type": "code",
   "execution_count": 22,
   "metadata": {},
   "outputs": [
    {
     "name": "stdout",
     "output_type": "stream",
     "text": [
      "All prices recorded are non negative\n"
     ]
    }
   ],
   "source": [
    "flag = 0\n",
    "for i in range(0, len(df['so2'])):\n",
    "    if(df['so2'][i]<0):\n",
    "        flag = 1\n",
    "        print(i)\n",
    "    else:\n",
    "        continue\n",
    "\n",
    "if(flag == 0):\n",
    "    print(\"All prices recorded are non negative\")"
   ]
  },
  {
   "cell_type": "markdown",
   "metadata": {},
   "source": [
    "### rspm"
   ]
  },
  {
   "cell_type": "code",
   "execution_count": 23,
   "metadata": {},
   "outputs": [
    {
     "name": "stdout",
     "output_type": "stream",
     "text": [
      "All prices recorded are non negative\n"
     ]
    }
   ],
   "source": [
    "flag = 0\n",
    "for i in range(0, len(df['rspm'])):\n",
    "    if(df['rspm'][i]<0):\n",
    "        flag = 1\n",
    "        print(i)\n",
    "    else:\n",
    "        continue\n",
    "\n",
    "if(flag == 0):\n",
    "    print(\"All prices recorded are non negative\")"
   ]
  },
  {
   "cell_type": "markdown",
   "metadata": {},
   "source": [
    "### spm"
   ]
  },
  {
   "cell_type": "code",
   "execution_count": 24,
   "metadata": {},
   "outputs": [
    {
     "name": "stdout",
     "output_type": "stream",
     "text": [
      "All prices recorded are non negative\n"
     ]
    }
   ],
   "source": [
    "flag = 0\n",
    "for i in range(0, len(df['spm'])):\n",
    "    if(df['spm'][i]<0):\n",
    "        flag = 1\n",
    "        print(i)\n",
    "    else:\n",
    "        continue\n",
    "\n",
    "if(flag == 0):\n",
    "    print(\"All prices recorded are non negative\")"
   ]
  },
  {
   "cell_type": "markdown",
   "metadata": {},
   "source": [
    "Thus all the cells are non negative."
   ]
  },
  {
   "cell_type": "code",
   "execution_count": null,
   "metadata": {},
   "outputs": [],
   "source": []
  }
 ],
 "metadata": {
  "kernelspec": {
   "display_name": "Python 3",
   "language": "python",
   "name": "python3"
  },
  "language_info": {
   "codemirror_mode": {
    "name": "ipython",
    "version": 2
   },
   "file_extension": ".py",
   "mimetype": "text/x-python",
   "name": "python",
   "nbconvert_exporter": "python",
   "pygments_lexer": "ipython2",
   "version": "2.7.16"
  }
 },
 "nbformat": 4,
 "nbformat_minor": 2
}
